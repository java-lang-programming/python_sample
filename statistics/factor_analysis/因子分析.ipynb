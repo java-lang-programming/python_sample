{
 "cells": [
  {
   "cell_type": "markdown",
   "metadata": {},
   "source": [
    "# データを確認する"
   ]
  },
  {
   "cell_type": "code",
   "execution_count": 90,
   "metadata": {},
   "outputs": [],
   "source": [
    "import pandas as pd\n",
    "import numpy as np\n",
    "\n",
    "df = pd.read_csv('./syakousei.csv')"
   ]
  },
  {
   "cell_type": "markdown",
   "metadata": {},
   "source": [
    "## データを確認する"
   ]
  },
  {
   "cell_type": "code",
   "execution_count": 95,
   "metadata": {},
   "outputs": [
    {
     "data": {
      "text/html": [
       "<div>\n",
       "<style scoped>\n",
       "    .dataframe tbody tr th:only-of-type {\n",
       "        vertical-align: middle;\n",
       "    }\n",
       "\n",
       "    .dataframe tbody tr th {\n",
       "        vertical-align: top;\n",
       "    }\n",
       "\n",
       "    .dataframe thead th {\n",
       "        text-align: right;\n",
       "    }\n",
       "</style>\n",
       "<table border=\"1\" class=\"dataframe\">\n",
       "  <thead>\n",
       "    <tr style=\"text-align: right;\">\n",
       "      <th></th>\n",
       "      <th>id</th>\n",
       "      <th>外向性</th>\n",
       "      <th>社交性</th>\n",
       "      <th>積極性</th>\n",
       "      <th>知性</th>\n",
       "      <th>信頼性</th>\n",
       "      <th>素直さ</th>\n",
       "    </tr>\n",
       "  </thead>\n",
       "  <tbody>\n",
       "    <tr>\n",
       "      <th>0</th>\n",
       "      <td>1</td>\n",
       "      <td>3</td>\n",
       "      <td>4</td>\n",
       "      <td>4</td>\n",
       "      <td>5</td>\n",
       "      <td>4</td>\n",
       "      <td>4</td>\n",
       "    </tr>\n",
       "    <tr>\n",
       "      <th>1</th>\n",
       "      <td>2</td>\n",
       "      <td>6</td>\n",
       "      <td>6</td>\n",
       "      <td>7</td>\n",
       "      <td>8</td>\n",
       "      <td>7</td>\n",
       "      <td>7</td>\n",
       "    </tr>\n",
       "    <tr>\n",
       "      <th>2</th>\n",
       "      <td>3</td>\n",
       "      <td>6</td>\n",
       "      <td>5</td>\n",
       "      <td>7</td>\n",
       "      <td>5</td>\n",
       "      <td>5</td>\n",
       "      <td>6</td>\n",
       "    </tr>\n",
       "    <tr>\n",
       "      <th>3</th>\n",
       "      <td>4</td>\n",
       "      <td>6</td>\n",
       "      <td>7</td>\n",
       "      <td>5</td>\n",
       "      <td>4</td>\n",
       "      <td>6</td>\n",
       "      <td>5</td>\n",
       "    </tr>\n",
       "    <tr>\n",
       "      <th>4</th>\n",
       "      <td>5</td>\n",
       "      <td>5</td>\n",
       "      <td>7</td>\n",
       "      <td>6</td>\n",
       "      <td>5</td>\n",
       "      <td>5</td>\n",
       "      <td>5</td>\n",
       "    </tr>\n",
       "  </tbody>\n",
       "</table>\n",
       "</div>"
      ],
      "text/plain": [
       "   id  外向性  社交性  積極性  知性  信頼性  素直さ\n",
       "0   1    3    4    4   5    4    4\n",
       "1   2    6    6    7   8    7    7\n",
       "2   3    6    5    7   5    5    6\n",
       "3   4    6    7    5   4    6    5\n",
       "4   5    5    7    6   5    5    5"
      ]
     },
     "execution_count": 95,
     "metadata": {},
     "output_type": "execute_result"
    }
   ],
   "source": [
    "df.head(5)"
   ]
  },
  {
   "cell_type": "markdown",
   "metadata": {},
   "source": [
    "## 統計量を確認する"
   ]
  },
  {
   "cell_type": "code",
   "execution_count": 96,
   "metadata": {},
   "outputs": [
    {
     "data": {
      "text/html": [
       "<div>\n",
       "<style scoped>\n",
       "    .dataframe tbody tr th:only-of-type {\n",
       "        vertical-align: middle;\n",
       "    }\n",
       "\n",
       "    .dataframe tbody tr th {\n",
       "        vertical-align: top;\n",
       "    }\n",
       "\n",
       "    .dataframe thead th {\n",
       "        text-align: right;\n",
       "    }\n",
       "</style>\n",
       "<table border=\"1\" class=\"dataframe\">\n",
       "  <thead>\n",
       "    <tr style=\"text-align: right;\">\n",
       "      <th></th>\n",
       "      <th>id</th>\n",
       "      <th>外向性</th>\n",
       "      <th>社交性</th>\n",
       "      <th>積極性</th>\n",
       "      <th>知性</th>\n",
       "      <th>信頼性</th>\n",
       "      <th>素直さ</th>\n",
       "    </tr>\n",
       "  </thead>\n",
       "  <tbody>\n",
       "    <tr>\n",
       "      <th>count</th>\n",
       "      <td>20.00000</td>\n",
       "      <td>20.000000</td>\n",
       "      <td>20.00000</td>\n",
       "      <td>20.000000</td>\n",
       "      <td>20.000000</td>\n",
       "      <td>20.000000</td>\n",
       "      <td>20.000000</td>\n",
       "    </tr>\n",
       "    <tr>\n",
       "      <th>mean</th>\n",
       "      <td>10.50000</td>\n",
       "      <td>5.200000</td>\n",
       "      <td>5.35000</td>\n",
       "      <td>5.300000</td>\n",
       "      <td>5.000000</td>\n",
       "      <td>5.200000</td>\n",
       "      <td>5.100000</td>\n",
       "    </tr>\n",
       "    <tr>\n",
       "      <th>std</th>\n",
       "      <td>5.91608</td>\n",
       "      <td>0.894427</td>\n",
       "      <td>1.03999</td>\n",
       "      <td>1.260743</td>\n",
       "      <td>1.213954</td>\n",
       "      <td>0.894427</td>\n",
       "      <td>0.967906</td>\n",
       "    </tr>\n",
       "    <tr>\n",
       "      <th>min</th>\n",
       "      <td>1.00000</td>\n",
       "      <td>3.000000</td>\n",
       "      <td>3.00000</td>\n",
       "      <td>3.000000</td>\n",
       "      <td>3.000000</td>\n",
       "      <td>4.000000</td>\n",
       "      <td>3.000000</td>\n",
       "    </tr>\n",
       "    <tr>\n",
       "      <th>25%</th>\n",
       "      <td>5.75000</td>\n",
       "      <td>5.000000</td>\n",
       "      <td>5.00000</td>\n",
       "      <td>4.000000</td>\n",
       "      <td>4.000000</td>\n",
       "      <td>5.000000</td>\n",
       "      <td>4.750000</td>\n",
       "    </tr>\n",
       "    <tr>\n",
       "      <th>50%</th>\n",
       "      <td>10.50000</td>\n",
       "      <td>5.000000</td>\n",
       "      <td>5.50000</td>\n",
       "      <td>5.500000</td>\n",
       "      <td>5.000000</td>\n",
       "      <td>5.000000</td>\n",
       "      <td>5.000000</td>\n",
       "    </tr>\n",
       "    <tr>\n",
       "      <th>75%</th>\n",
       "      <td>15.25000</td>\n",
       "      <td>6.000000</td>\n",
       "      <td>6.00000</td>\n",
       "      <td>6.000000</td>\n",
       "      <td>5.250000</td>\n",
       "      <td>6.000000</td>\n",
       "      <td>6.000000</td>\n",
       "    </tr>\n",
       "    <tr>\n",
       "      <th>max</th>\n",
       "      <td>20.00000</td>\n",
       "      <td>6.000000</td>\n",
       "      <td>7.00000</td>\n",
       "      <td>7.000000</td>\n",
       "      <td>8.000000</td>\n",
       "      <td>7.000000</td>\n",
       "      <td>7.000000</td>\n",
       "    </tr>\n",
       "  </tbody>\n",
       "</table>\n",
       "</div>"
      ],
      "text/plain": [
       "             id        外向性       社交性        積極性         知性        信頼性  \\\n",
       "count  20.00000  20.000000  20.00000  20.000000  20.000000  20.000000   \n",
       "mean   10.50000   5.200000   5.35000   5.300000   5.000000   5.200000   \n",
       "std     5.91608   0.894427   1.03999   1.260743   1.213954   0.894427   \n",
       "min     1.00000   3.000000   3.00000   3.000000   3.000000   4.000000   \n",
       "25%     5.75000   5.000000   5.00000   4.000000   4.000000   5.000000   \n",
       "50%    10.50000   5.000000   5.50000   5.500000   5.000000   5.000000   \n",
       "75%    15.25000   6.000000   6.00000   6.000000   5.250000   6.000000   \n",
       "max    20.00000   6.000000   7.00000   7.000000   8.000000   7.000000   \n",
       "\n",
       "             素直さ  \n",
       "count  20.000000  \n",
       "mean    5.100000  \n",
       "std     0.967906  \n",
       "min     3.000000  \n",
       "25%     4.750000  \n",
       "50%     5.000000  \n",
       "75%     6.000000  \n",
       "max     7.000000  "
      ]
     },
     "execution_count": 96,
     "metadata": {},
     "output_type": "execute_result"
    }
   ],
   "source": [
    "df.describe()"
   ]
  },
  {
   "cell_type": "markdown",
   "metadata": {},
   "source": [
    "# 相関係数"
   ]
  },
  {
   "cell_type": "code",
   "execution_count": 99,
   "metadata": {},
   "outputs": [],
   "source": [
    "df_data = df.drop('id', axis=1)"
   ]
  },
  {
   "cell_type": "code",
   "execution_count": 100,
   "metadata": {
    "scrolled": true
   },
   "outputs": [
    {
     "data": {
      "text/html": [
       "<div>\n",
       "<style scoped>\n",
       "    .dataframe tbody tr th:only-of-type {\n",
       "        vertical-align: middle;\n",
       "    }\n",
       "\n",
       "    .dataframe tbody tr th {\n",
       "        vertical-align: top;\n",
       "    }\n",
       "\n",
       "    .dataframe thead th {\n",
       "        text-align: right;\n",
       "    }\n",
       "</style>\n",
       "<table border=\"1\" class=\"dataframe\">\n",
       "  <thead>\n",
       "    <tr style=\"text-align: right;\">\n",
       "      <th></th>\n",
       "      <th>外向性</th>\n",
       "      <th>社交性</th>\n",
       "      <th>積極性</th>\n",
       "      <th>知性</th>\n",
       "      <th>信頼性</th>\n",
       "      <th>素直さ</th>\n",
       "    </tr>\n",
       "  </thead>\n",
       "  <tbody>\n",
       "    <tr>\n",
       "      <th>外向性</th>\n",
       "      <td>1.000000</td>\n",
       "      <td>0.486598</td>\n",
       "      <td>0.597427</td>\n",
       "      <td>0.242365</td>\n",
       "      <td>0.276316</td>\n",
       "      <td>0.218862</td>\n",
       "    </tr>\n",
       "    <tr>\n",
       "      <th>社交性</th>\n",
       "      <td>0.486598</td>\n",
       "      <td>1.000000</td>\n",
       "      <td>0.557963</td>\n",
       "      <td>0.125065</td>\n",
       "      <td>0.316855</td>\n",
       "      <td>0.172543</td>\n",
       "    </tr>\n",
       "    <tr>\n",
       "      <th>積極性</th>\n",
       "      <td>0.597427</td>\n",
       "      <td>0.557963</td>\n",
       "      <td>1.000000</td>\n",
       "      <td>0.240722</td>\n",
       "      <td>0.037339</td>\n",
       "      <td>0.146644</td>\n",
       "    </tr>\n",
       "    <tr>\n",
       "      <th>知性</th>\n",
       "      <td>0.242365</td>\n",
       "      <td>0.125065</td>\n",
       "      <td>0.240722</td>\n",
       "      <td>1.000000</td>\n",
       "      <td>0.436256</td>\n",
       "      <td>0.627103</td>\n",
       "    </tr>\n",
       "    <tr>\n",
       "      <th>信頼性</th>\n",
       "      <td>0.276316</td>\n",
       "      <td>0.316855</td>\n",
       "      <td>0.037339</td>\n",
       "      <td>0.436256</td>\n",
       "      <td>1.000000</td>\n",
       "      <td>0.583632</td>\n",
       "    </tr>\n",
       "    <tr>\n",
       "      <th>素直さ</th>\n",
       "      <td>0.218862</td>\n",
       "      <td>0.172543</td>\n",
       "      <td>0.146644</td>\n",
       "      <td>0.627103</td>\n",
       "      <td>0.583632</td>\n",
       "      <td>1.000000</td>\n",
       "    </tr>\n",
       "  </tbody>\n",
       "</table>\n",
       "</div>"
      ],
      "text/plain": [
       "          外向性       社交性       積極性        知性       信頼性       素直さ\n",
       "外向性  1.000000  0.486598  0.597427  0.242365  0.276316  0.218862\n",
       "社交性  0.486598  1.000000  0.557963  0.125065  0.316855  0.172543\n",
       "積極性  0.597427  0.557963  1.000000  0.240722  0.037339  0.146644\n",
       "知性   0.242365  0.125065  0.240722  1.000000  0.436256  0.627103\n",
       "信頼性  0.276316  0.316855  0.037339  0.436256  1.000000  0.583632\n",
       "素直さ  0.218862  0.172543  0.146644  0.627103  0.583632  1.000000"
      ]
     },
     "execution_count": 100,
     "metadata": {},
     "output_type": "execute_result"
    }
   ],
   "source": [
    "df_data.corr()"
   ]
  },
  {
   "cell_type": "markdown",
   "metadata": {},
   "source": [
    "上記の結果より\n",
    "\n",
    "外向性と相関が高いのは　積極性,  社交性<br>\n",
    "社交性と相関が高いのは　積極性,  外向性<br>\n",
    "積極性と相関が高いのは 外向性,  社交性<br>\n",
    "知性と相関が高いのは   　素直さ, 信頼性<br>\n",
    "信頼性と相関が高いのは　素直さ, 知性<br>\n",
    "素直さと相関が高いのは  知性, 信頼性<br>\n",
    "\n",
    "より、２つの因子に分けられそうなのがわかります。\n",
    "\n",
    "1.  外向性,  社交性 積極性\n",
    "2.  知性, 信頼性, 素直さ"
   ]
  },
  {
   "cell_type": "markdown",
   "metadata": {},
   "source": [
    "# スクリープロット"
   ]
  },
  {
   "cell_type": "code",
   "execution_count": 124,
   "metadata": {},
   "outputs": [
    {
     "data": {
      "text/plain": [
       "Text(0, 0.5, 'eigenvalue')"
      ]
     },
     "execution_count": 124,
     "metadata": {},
     "output_type": "execute_result"
    },
    {
     "data": {
      "image/png": "[encoded data removed]",
      "text/plain": [
       "<Figure size 432x288 with 1 Axes>"
      ]
     },
     "metadata": {
      "needs_background": "light"
     },
     "output_type": "display_data"
    }
   ],
   "source": [
    "#　固有値1以上の因子数を探すので、スクリープロット用のダミーデータを作成する\n",
    "eigenvalue_one : np.ndarray = np.array([1.0, 1.0, 1.0, 1.0, 1.0, 1.0])\n",
    "%matplotlib inline\n",
    "import matplotlib.pyplot as plt\n",
    "plt.plot(np.linalg.eigvals(df_data.corr()), 's-')\n",
    "plt.plot(eigenvalue_one, 's-')\n",
    "plt.xlabel('facotor count')\n",
    "plt.ylabel('eigenvalue')"
   ]
  },
  {
   "cell_type": "markdown",
   "metadata": {},
   "source": [
    "上記より因子数2は妥当と言える"
   ]
  },
  {
   "cell_type": "markdown",
   "metadata": {},
   "source": [
    "# プロマックス法"
   ]
  },
  {
   "cell_type": "markdown",
   "metadata": {},
   "source": [
    "プロマックス法でデータを回転させます"
   ]
  },
  {
   "cell_type": "code",
   "execution_count": 145,
   "metadata": {},
   "outputs": [],
   "source": [
    "from factor_analyzer import FactorAnalyzer"
   ]
  },
  {
   "cell_type": "code",
   "execution_count": 146,
   "metadata": {},
   "outputs": [],
   "source": [
    "columns = df_data.columns\n",
    "n = 2"
   ]
  },
  {
   "cell_type": "code",
   "execution_count": 147,
   "metadata": {},
   "outputs": [
    {
     "data": {
      "text/plain": [
       "array([[ 0.07417775,  0.70194627],\n",
       "       [ 0.0326453 ,  0.66278311],\n",
       "       [-0.11286124,  0.86765339],\n",
       "       [ 0.66045235,  0.04153972],\n",
       "       [ 0.65254046,  0.03089357],\n",
       "       [ 0.93560566, -0.093399  ]])"
      ]
     },
     "execution_count": 147,
     "metadata": {},
     "output_type": "execute_result"
    }
   ],
   "source": [
    "fa = FactorAnalyzer(n_factors=n, rotation='promax', impute='drop')\n",
    "fa.fit(df_data)\n",
    "fa.loadings_"
   ]
  },
  {
   "cell_type": "code",
   "execution_count": 148,
   "metadata": {},
   "outputs": [],
   "source": [
    "# csvで出力\n",
    "pd.DataFrame(fa.loadings_, index=columns).to_csv('./result.csv')"
   ]
  },
  {
   "cell_type": "markdown",
   "metadata": {},
   "source": [
    "# データの確認"
   ]
  },
  {
   "cell_type": "code",
   "execution_count": 141,
   "metadata": {},
   "outputs": [],
   "source": [
    "df_result = pd.read_csv('./result.csv')"
   ]
  },
  {
   "cell_type": "code",
   "execution_count": 142,
   "metadata": {},
   "outputs": [
    {
     "data": {
      "text/html": [
       "<div>\n",
       "<style scoped>\n",
       "    .dataframe tbody tr th:only-of-type {\n",
       "        vertical-align: middle;\n",
       "    }\n",
       "\n",
       "    .dataframe tbody tr th {\n",
       "        vertical-align: top;\n",
       "    }\n",
       "\n",
       "    .dataframe thead th {\n",
       "        text-align: right;\n",
       "    }\n",
       "</style>\n",
       "<table border=\"1\" class=\"dataframe\">\n",
       "  <thead>\n",
       "    <tr style=\"text-align: right;\">\n",
       "      <th></th>\n",
       "      <th>Unnamed: 0</th>\n",
       "      <th>0</th>\n",
       "      <th>1</th>\n",
       "    </tr>\n",
       "  </thead>\n",
       "  <tbody>\n",
       "    <tr>\n",
       "      <th>0</th>\n",
       "      <td>外向性</td>\n",
       "      <td>0.074178</td>\n",
       "      <td>0.701946</td>\n",
       "    </tr>\n",
       "    <tr>\n",
       "      <th>1</th>\n",
       "      <td>社交性</td>\n",
       "      <td>0.032645</td>\n",
       "      <td>0.662783</td>\n",
       "    </tr>\n",
       "    <tr>\n",
       "      <th>2</th>\n",
       "      <td>積極性</td>\n",
       "      <td>-0.112861</td>\n",
       "      <td>0.867653</td>\n",
       "    </tr>\n",
       "    <tr>\n",
       "      <th>3</th>\n",
       "      <td>知性</td>\n",
       "      <td>0.660452</td>\n",
       "      <td>0.041540</td>\n",
       "    </tr>\n",
       "    <tr>\n",
       "      <th>4</th>\n",
       "      <td>信頼性</td>\n",
       "      <td>0.652540</td>\n",
       "      <td>0.030894</td>\n",
       "    </tr>\n",
       "    <tr>\n",
       "      <th>5</th>\n",
       "      <td>素直さ</td>\n",
       "      <td>0.935606</td>\n",
       "      <td>-0.093399</td>\n",
       "    </tr>\n",
       "  </tbody>\n",
       "</table>\n",
       "</div>"
      ],
      "text/plain": [
       "  Unnamed: 0         0         1\n",
       "0        外向性  0.074178  0.701946\n",
       "1        社交性  0.032645  0.662783\n",
       "2        積極性 -0.112861  0.867653\n",
       "3         知性  0.660452  0.041540\n",
       "4        信頼性  0.652540  0.030894\n",
       "5        素直さ  0.935606 -0.093399"
      ]
     },
     "execution_count": 142,
     "metadata": {},
     "output_type": "execute_result"
    }
   ],
   "source": [
    "df_result"
   ]
  },
  {
   "cell_type": "markdown",
   "metadata": {},
   "source": [
    "わかりにくいので色をつけます。"
   ]
  },
  {
   "cell_type": "code",
   "execution_count": 149,
   "metadata": {},
   "outputs": [],
   "source": [
    "import seaborn as sns"
   ]
  },
  {
   "cell_type": "code",
   "execution_count": 150,
   "metadata": {},
   "outputs": [
    {
     "data": {
      "text/html": [
       "<style  type=\"text/css\" >\n",
       "    #T_05a31810_8f37_11e9_874e_0242ac170002row0_col1 {\n",
       "            background-color:  #ffbdbd;\n",
       "        }    #T_05a31810_8f37_11e9_874e_0242ac170002row0_col2 {\n",
       "            background-color:  #ff2828;\n",
       "        }    #T_05a31810_8f37_11e9_874e_0242ac170002row1_col1 {\n",
       "            background-color:  #ffc6c6;\n",
       "        }    #T_05a31810_8f37_11e9_874e_0242ac170002row1_col2 {\n",
       "            background-color:  #ff3131;\n",
       "        }    #T_05a31810_8f37_11e9_874e_0242ac170002row2_col1 {\n",
       "            background-color:  #ffe5e5;\n",
       "        }    #T_05a31810_8f37_11e9_874e_0242ac170002row2_col2 {\n",
       "            background-color:  #ff0000;\n",
       "        }    #T_05a31810_8f37_11e9_874e_0242ac170002row3_col1 {\n",
       "            background-color:  #ff3c3c;\n",
       "        }    #T_05a31810_8f37_11e9_874e_0242ac170002row3_col2 {\n",
       "            background-color:  #ffc6c6;\n",
       "        }    #T_05a31810_8f37_11e9_874e_0242ac170002row4_col1 {\n",
       "            background-color:  #ff3e3e;\n",
       "        }    #T_05a31810_8f37_11e9_874e_0242ac170002row4_col2 {\n",
       "            background-color:  #ffc8c8;\n",
       "        }    #T_05a31810_8f37_11e9_874e_0242ac170002row5_col1 {\n",
       "            background-color:  #ff0000;\n",
       "        }    #T_05a31810_8f37_11e9_874e_0242ac170002row5_col2 {\n",
       "            background-color:  #ffe5e5;\n",
       "        }</style>  \n",
       "<table id=\"T_05a31810_8f37_11e9_874e_0242ac170002\" > \n",
       "<thead>    <tr> \n",
       "        <th class=\"blank level0\" ></th> \n",
       "        <th class=\"col_heading level0 col0\" >Unnamed: 0</th> \n",
       "        <th class=\"col_heading level0 col1\" >0</th> \n",
       "        <th class=\"col_heading level0 col2\" >1</th> \n",
       "    </tr></thead> \n",
       "<tbody>    <tr> \n",
       "        <th id=\"T_05a31810_8f37_11e9_874e_0242ac170002level0_row0\" class=\"row_heading level0 row0\" >0</th> \n",
       "        <td id=\"T_05a31810_8f37_11e9_874e_0242ac170002row0_col0\" class=\"data row0 col0\" >外向性</td> \n",
       "        <td id=\"T_05a31810_8f37_11e9_874e_0242ac170002row0_col1\" class=\"data row0 col1\" >0.0741778</td> \n",
       "        <td id=\"T_05a31810_8f37_11e9_874e_0242ac170002row0_col2\" class=\"data row0 col2\" >0.701946</td> \n",
       "    </tr>    <tr> \n",
       "        <th id=\"T_05a31810_8f37_11e9_874e_0242ac170002level0_row1\" class=\"row_heading level0 row1\" >1</th> \n",
       "        <td id=\"T_05a31810_8f37_11e9_874e_0242ac170002row1_col0\" class=\"data row1 col0\" >社交性</td> \n",
       "        <td id=\"T_05a31810_8f37_11e9_874e_0242ac170002row1_col1\" class=\"data row1 col1\" >0.0326453</td> \n",
       "        <td id=\"T_05a31810_8f37_11e9_874e_0242ac170002row1_col2\" class=\"data row1 col2\" >0.662783</td> \n",
       "    </tr>    <tr> \n",
       "        <th id=\"T_05a31810_8f37_11e9_874e_0242ac170002level0_row2\" class=\"row_heading level0 row2\" >2</th> \n",
       "        <td id=\"T_05a31810_8f37_11e9_874e_0242ac170002row2_col0\" class=\"data row2 col0\" >積極性</td> \n",
       "        <td id=\"T_05a31810_8f37_11e9_874e_0242ac170002row2_col1\" class=\"data row2 col1\" >-0.112861</td> \n",
       "        <td id=\"T_05a31810_8f37_11e9_874e_0242ac170002row2_col2\" class=\"data row2 col2\" >0.867653</td> \n",
       "    </tr>    <tr> \n",
       "        <th id=\"T_05a31810_8f37_11e9_874e_0242ac170002level0_row3\" class=\"row_heading level0 row3\" >3</th> \n",
       "        <td id=\"T_05a31810_8f37_11e9_874e_0242ac170002row3_col0\" class=\"data row3 col0\" >知性</td> \n",
       "        <td id=\"T_05a31810_8f37_11e9_874e_0242ac170002row3_col1\" class=\"data row3 col1\" >0.660452</td> \n",
       "        <td id=\"T_05a31810_8f37_11e9_874e_0242ac170002row3_col2\" class=\"data row3 col2\" >0.0415397</td> \n",
       "    </tr>    <tr> \n",
       "        <th id=\"T_05a31810_8f37_11e9_874e_0242ac170002level0_row4\" class=\"row_heading level0 row4\" >4</th> \n",
       "        <td id=\"T_05a31810_8f37_11e9_874e_0242ac170002row4_col0\" class=\"data row4 col0\" >信頼性</td> \n",
       "        <td id=\"T_05a31810_8f37_11e9_874e_0242ac170002row4_col1\" class=\"data row4 col1\" >0.65254</td> \n",
       "        <td id=\"T_05a31810_8f37_11e9_874e_0242ac170002row4_col2\" class=\"data row4 col2\" >0.0308936</td> \n",
       "    </tr>    <tr> \n",
       "        <th id=\"T_05a31810_8f37_11e9_874e_0242ac170002level0_row5\" class=\"row_heading level0 row5\" >5</th> \n",
       "        <td id=\"T_05a31810_8f37_11e9_874e_0242ac170002row5_col0\" class=\"data row5 col0\" >素直さ</td> \n",
       "        <td id=\"T_05a31810_8f37_11e9_874e_0242ac170002row5_col1\" class=\"data row5 col1\" >0.935606</td> \n",
       "        <td id=\"T_05a31810_8f37_11e9_874e_0242ac170002row5_col2\" class=\"data row5 col2\" >-0.093399</td> \n",
       "    </tr></tbody> \n",
       "</table> "
      ],
      "text/plain": [
       "<pandas.io.formats.style.Styler at 0x7f61863a69b0>"
      ]
     },
     "execution_count": 150,
     "metadata": {},
     "output_type": "execute_result"
    }
   ],
   "source": [
    "cm = sns.light_palette(\"red\", as_cmap=True)\n",
    "df_result.style.background_gradient(cmap=cm)"
   ]
  },
  {
   "cell_type": "markdown",
   "metadata": {},
   "source": [
    "綺麗に別れましたね。\n",
    "\n",
    "0番目の因子['知性', '信頼性', '素直さ']　を将来有望童貞因子\n",
    "1番目の因子['外向性', '社交性', '積極性']　を将来リア充やりチン因子\n",
    "\n",
    "と言う名称をつけましょう。"
   ]
  },
  {
   "cell_type": "code",
   "execution_count": null,
   "metadata": {},
   "outputs": [],
   "source": []
  }
 ],
 "metadata": {
  "kernelspec": {
   "display_name": "Python 3",
   "language": "python",
   "name": "python3"
  },
  "language_info": {
   "codemirror_mode": {
    "name": "ipython",
    "version": 3
   },
   "file_extension": ".py",
   "mimetype": "text/x-python",
   "name": "python",
   "nbconvert_exporter": "python",
   "pygments_lexer": "ipython3",
   "version": "3.6.8"
  },
  "toc": {
   "base_numbering": 1,
   "nav_menu": {},
   "number_sections": true,
   "sideBar": true,
   "skip_h1_title": false,
   "title_cell": "Table of Contents",
   "title_sidebar": "Contents",
   "toc_cell": false,
   "toc_position": {},
   "toc_section_display": true,
   "toc_window_display": false
  }
 },
 "nbformat": 4,
 "nbformat_minor": 2
}
